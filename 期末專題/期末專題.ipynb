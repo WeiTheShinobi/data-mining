{
 "cells": [
  {
   "cell_type": "markdown",
   "metadata": {},
   "source": [
    "# 肥美ㄉ專題"
   ]
  },
  {
   "cell_type": "markdown",
   "metadata": {},
   "source": [
    "資料很重要，\n",
    "大部分的時間都會花在資料的蒐集、處理上，\n",
    "今天帶來一個小故事：做專題ㄉ阿明\n",
    "\n",
    "在阿明的專題中，\n",
    "阿明想要知道觀光景點的氣候資訊，\n",
    "所以需要氣象站的資料，\n",
    "阿明想要知道哪個氣象站離觀光景點最近，\n",
    "以此來決定要用哪個氣象站的資料。\n",
    "\n",
    "- 這裡示範了如何大膽的使用資料\n",
    "- 該如何取得兩點之間的距離呢？阿明能夠成功嗎？\n",
    "- 緊張又刺激的阿明之旅即將展開！\n",
    "- 本故事中的所有角色純屬虛構"
   ]
  },
  {
   "cell_type": "markdown",
   "metadata": {},
   "source": [
    "\n",
    "阿明決定先把等等會用到的東西`import`一下\n"
   ]
  },
  {
   "cell_type": "code",
   "execution_count": null,
   "metadata": {},
   "outputs": [],
   "source": [
    "import os\n",
    "import pandas as pd\n",
    "from math import *\n",
    "import matplotlib.pyplot as plt\n",
    "import numpy as np\n",
    "from matplotlib.font_manager import FontProperties"
   ]
  },
  {
   "cell_type": "markdown",
   "metadata": {},
   "source": [
    "\n",
    "如何取得兩點之間的距離？\n",
    "剎那間，\n",
    "阿明想到可以用經緯度來計算兩點的距離，\n",
    "那又要如何取得經緯度呢？\n"
   ]
  },
  {
   "cell_type": "code",
   "execution_count": 10,
   "metadata": {},
   "outputs": [
    {
     "data": {
      "text/html": [
       "<div>\n",
       "<style scoped>\n",
       "    .dataframe tbody tr th:only-of-type {\n",
       "        vertical-align: middle;\n",
       "    }\n",
       "\n",
       "    .dataframe tbody tr th {\n",
       "        vertical-align: top;\n",
       "    }\n",
       "\n",
       "    .dataframe thead th {\n",
       "        text-align: right;\n",
       "    }\n",
       "</style>\n",
       "<table border=\"1\" class=\"dataframe\">\n",
       "  <thead>\n",
       "    <tr style=\"text-align: right;\">\n",
       "      <th></th>\n",
       "      <th>編號</th>\n",
       "      <th>地點</th>\n",
       "      <th>地址</th>\n",
       "      <th>緯度</th>\n",
       "      <th>經度</th>\n",
       "      <th>類別</th>\n",
       "    </tr>\n",
       "  </thead>\n",
       "  <tbody>\n",
       "    <tr>\n",
       "      <th>0</th>\n",
       "      <td>1</td>\n",
       "      <td>臺灣鹽博物館</td>\n",
       "      <td>724 臺南市七股區鹽埕里69號</td>\n",
       "      <td>23.15535</td>\n",
       "      <td>120.10565</td>\n",
       "      <td>地方展館、在地藝文、無障礙設施</td>\n",
       "    </tr>\n",
       "    <tr>\n",
       "      <th>1</th>\n",
       "      <td>2</td>\n",
       "      <td>七股鹽山</td>\n",
       "      <td>724 臺南市七股區鹽埕里66號</td>\n",
       "      <td>23.15427</td>\n",
       "      <td>120.10026</td>\n",
       "      <td>生態教育、自然景觀、休閒農漁、無障礙設施</td>\n",
       "    </tr>\n",
       "    <tr>\n",
       "      <th>2</th>\n",
       "      <td>3</td>\n",
       "      <td>北門遊客中心</td>\n",
       "      <td>727 臺南市北門區北門里舊埕200號</td>\n",
       "      <td>23.26715</td>\n",
       "      <td>120.12397</td>\n",
       "      <td>在地藝文、無障礙設施</td>\n",
       "    </tr>\n",
       "    <tr>\n",
       "      <th>3</th>\n",
       "      <td>4</td>\n",
       "      <td>井仔腳瓦盤鹽田</td>\n",
       "      <td>727 臺南市北門區永華里井仔腳興安宮旁</td>\n",
       "      <td>23.25958</td>\n",
       "      <td>120.10819</td>\n",
       "      <td>生態教育、自然景觀、無障礙設施</td>\n",
       "    </tr>\n",
       "    <tr>\n",
       "      <th>4</th>\n",
       "      <td>5</td>\n",
       "      <td>尖山埤江南渡假村</td>\n",
       "      <td>736 臺南市柳營區旭山里60號</td>\n",
       "      <td>23.26649</td>\n",
       "      <td>120.39331</td>\n",
       "      <td>生態教育</td>\n",
       "    </tr>\n",
       "  </tbody>\n",
       "</table>\n",
       "</div>"
      ],
      "text/plain": [
       "   編號        地點                    地址        緯度         經度  \\\n",
       "0   1    臺灣鹽博物館      724 臺南市七股區鹽埕里69號  23.15535  120.10565   \n",
       "1   2      七股鹽山      724 臺南市七股區鹽埕里66號  23.15427  120.10026   \n",
       "2   3    北門遊客中心   727 臺南市北門區北門里舊埕200號  23.26715  120.12397   \n",
       "3   4   井仔腳瓦盤鹽田  727 臺南市北門區永華里井仔腳興安宮旁  23.25958  120.10819   \n",
       "4   5  尖山埤江南渡假村      736 臺南市柳營區旭山里60號  23.26649  120.39331   \n",
       "\n",
       "                     類別  \n",
       "0       地方展館、在地藝文、無障礙設施  \n",
       "1  生態教育、自然景觀、休閒農漁、無障礙設施  \n",
       "2            在地藝文、無障礙設施  \n",
       "3       生態教育、自然景觀、無障礙設施  \n",
       "4                  生態教育  "
      ]
     },
     "execution_count": 10,
     "metadata": {},
     "output_type": "execute_result"
    }
   ],
   "source": [
    "pd.read_csv('static/景點.csv')[0:5]"
   ]
  },
  {
   "cell_type": "markdown",
   "metadata": {},
   "source": [
    "\n",
    "哇！真巧！\n",
    "阿明找到的景點資料中，\n",
    "剛好有經緯度的資訊！\n",
    "\n",
    "阿明找的觀測站資料中，\n",
    "該不會剛好也有經緯度的資訊吧？\n"
   ]
  },
  {
   "cell_type": "code",
   "execution_count": 12,
   "metadata": {},
   "outputs": [
    {
     "data": {
      "text/html": [
       "<div>\n",
       "<style scoped>\n",
       "    .dataframe tbody tr th:only-of-type {\n",
       "        vertical-align: middle;\n",
       "    }\n",
       "\n",
       "    .dataframe tbody tr th {\n",
       "        vertical-align: top;\n",
       "    }\n",
       "\n",
       "    .dataframe thead th {\n",
       "        text-align: right;\n",
       "    }\n",
       "</style>\n",
       "<table border=\"1\" class=\"dataframe\">\n",
       "  <thead>\n",
       "    <tr style=\"text-align: right;\">\n",
       "      <th></th>\n",
       "      <th>站號</th>\n",
       "      <th>站名</th>\n",
       "      <th>海拔高度(m)</th>\n",
       "      <th>經度</th>\n",
       "      <th>緯度</th>\n",
       "      <th>城市</th>\n",
       "      <th>地址</th>\n",
       "      <th>資料起始日期</th>\n",
       "      <th>撤站日期</th>\n",
       "      <th>備註</th>\n",
       "      <th>Unnamed: 10</th>\n",
       "    </tr>\n",
       "  </thead>\n",
       "  <tbody>\n",
       "    <tr>\n",
       "      <th>0</th>\n",
       "      <td>C0O810</td>\n",
       "      <td>曾文</td>\n",
       "      <td>161.0</td>\n",
       "      <td>120.497328</td>\n",
       "      <td>23.219681</td>\n",
       "      <td>臺南市</td>\n",
       "      <td>楠西區曾文新村(曾文水庫管理局內)</td>\n",
       "      <td>1998/10/8</td>\n",
       "      <td>NaN</td>\n",
       "      <td>NaN</td>\n",
       "      <td>NaN</td>\n",
       "    </tr>\n",
       "    <tr>\n",
       "      <th>1</th>\n",
       "      <td>C0O830</td>\n",
       "      <td>北寮</td>\n",
       "      <td>127.0</td>\n",
       "      <td>120.495008</td>\n",
       "      <td>23.079561</td>\n",
       "      <td>臺南市</td>\n",
       "      <td>南化區北寮里48-4號</td>\n",
       "      <td>2013/4/18</td>\n",
       "      <td>NaN</td>\n",
       "      <td>原(C1O830)站因擴充為氣象站，於2013/4/18升級為(C0O830)站。</td>\n",
       "      <td>C1O830</td>\n",
       "    </tr>\n",
       "    <tr>\n",
       "      <th>2</th>\n",
       "      <td>C0O840</td>\n",
       "      <td>王爺宮</td>\n",
       "      <td>134.0</td>\n",
       "      <td>120.400850</td>\n",
       "      <td>23.222064</td>\n",
       "      <td>臺南市</td>\n",
       "      <td>六甲區王爺里24號（六甲國小湖東分校）</td>\n",
       "      <td>2013/12/1</td>\n",
       "      <td>NaN</td>\n",
       "      <td>原(C1O840)站因觀測條件不佳及擴充為氣象站，於2013/12/1升級為(C0O840)站。</td>\n",
       "      <td>C1O840</td>\n",
       "    </tr>\n",
       "  </tbody>\n",
       "</table>\n",
       "</div>"
      ],
      "text/plain": [
       "       站號   站名  海拔高度(m)          經度         緯度   城市                   地址  \\\n",
       "0  C0O810   曾文    161.0  120.497328  23.219681  臺南市    楠西區曾文新村(曾文水庫管理局內)   \n",
       "1  C0O830   北寮    127.0  120.495008  23.079561  臺南市          南化區北寮里48-4號   \n",
       "2  C0O840  王爺宮    134.0  120.400850  23.222064  臺南市  六甲區王爺里24號（六甲國小湖東分校）   \n",
       "\n",
       "      資料起始日期  撤站日期                                                備註  \\\n",
       "0  1998/10/8   NaN                                               NaN   \n",
       "1  2013/4/18   NaN         原(C1O830)站因擴充為氣象站，於2013/4/18升級為(C0O830)站。   \n",
       "2  2013/12/1   NaN  原(C1O840)站因觀測條件不佳及擴充為氣象站，於2013/12/1升級為(C0O840)站。   \n",
       "\n",
       "  Unnamed: 10  \n",
       "0         NaN  \n",
       "1      C1O830  \n",
       "2      C1O840  "
      ]
     },
     "execution_count": 12,
     "metadata": {},
     "output_type": "execute_result"
    }
   ],
   "source": [
    "pd.read_csv('static/觀測站.csv')[0:3]"
   ]
  },
  {
   "cell_type": "markdown",
   "metadata": {},
   "source": [
    "\n",
    "哇！比巧達起司還巧！\n",
    "比巧克力還巧！\n",
    "三商巧福看了都自嘆不如，\n",
    "還真的有！\n",
    "\n",
    "有這些資料，\n",
    "為阿明省去了很多的時間，\n",
    "現在阿明就可以開始進行愉快ㄉ程式之旅！\n"
   ]
  },
  {
   "cell_type": "code",
   "execution_count": 13,
   "metadata": {},
   "outputs": [],
   "source": [
    "def __compute_distance(lat1, lng1, lat2, lng2):\n",
    "    radlat1 = radians(lat1)\n",
    "    radlat2 = radians(lat2)\n",
    "    a = radlat1 - radlat2\n",
    "    b = radians(lng1) - radians(lng2)\n",
    "    s = 2 * asin(sqrt(pow(sin(a / 2), 2) + cos(radlat1) * cos(radlat2) * pow(sin(b / 2), 2)))\n",
    "    earth_radius = 6378.137\n",
    "    s = s * earth_radius\n",
    "    if s < 0:\n",
    "        return -s\n",
    "    else:\n",
    "        return s"
   ]
  },
  {
   "cell_type": "markdown",
   "metadata": {},
   "source": [
    "\n",
    "阿明想到的第一件事就是上網找找有誰會用經緯度計算距離呢？\n",
    "果真讓阿明找到，\n",
    "\n",
    "第一天，阿明說要有距離，\n",
    "於是有了距離。\n"
   ]
  },
  {
   "cell_type": "code",
   "execution_count": 38,
   "metadata": {},
   "outputs": [
    {
     "data": {
      "text/plain": [
       "124.8331458033635"
      ]
     },
     "execution_count": 38,
     "metadata": {},
     "output_type": "execute_result"
    }
   ],
   "source": [
    "# 測試 單位為公里\n",
    "__compute_distance(120, 23, 121, 24)"
   ]
  },
  {
   "cell_type": "markdown",
   "metadata": {},
   "source": [
    "\n",
    "有了計算距離的函式，\n",
    "就可以計算距離了。\n",
    "\n",
    "阿明寫了一個函式，\n",
    "只要傳入景點的座標，\n",
    "就可以得到與之最近的氣象站。\n"
   ]
  },
  {
   "cell_type": "code",
   "execution_count": 15,
   "metadata": {},
   "outputs": [],
   "source": [
    "def __get_distance_point_to_site(point_lat, point_lng):\n",
    "    sites = pd.read_csv('static/觀測站.csv')\n",
    "    sites_name = sites['站名'].tolist()\n",
    "    sites_lat = sites['經度'].tolist()\n",
    "    sites_lng = sites['緯度'].tolist()\n",
    "\n",
    "    tmp_for_search_name = {}\n",
    "    tmp_distance = []\n",
    "    for i, site_name in enumerate(sites_name):\n",
    "        distance = __compute_distance(point_lat, point_lng, sites_lat[i], sites_lng[i])\n",
    "        tmp_for_search_name[distance] = site_name\n",
    "        tmp_distance.append(distance)\n",
    "    nearest_site_distance = np.min(tmp_distance)\n",
    "    nearest_site_name = tmp_for_search_name[nearest_site_distance]\n",
    "\n",
    "    return [nearest_site_name, round(nearest_site_distance, 3)]"
   ]
  },
  {
   "cell_type": "code",
   "execution_count": 23,
   "metadata": {},
   "outputs": [
    {
     "data": {
      "text/plain": [
       "['北門', 43.156]"
      ]
     },
     "execution_count": 23,
     "metadata": {},
     "output_type": "execute_result"
    }
   ],
   "source": [
    "# 測試\n",
    "__get_distance_point_to_site(120, 23)"
   ]
  },
  {
   "cell_type": "markdown",
   "metadata": {},
   "source": [
    "\n",
    "阿明見證了生死離別，\n",
    "差點迷失在花花世界中，\n",
    "但在旅途的最後，\n",
    "阿明想起了那時小花說的話，\n",
    "「不要忘記最初的自己。」\n",
    "\n",
    "阿明想起自己是為了資料而來，\n",
    "在家鄉還有等待他的人。\n"
   ]
  },
  {
   "cell_type": "code",
   "execution_count": 39,
   "metadata": {},
   "outputs": [],
   "source": [
    "def create_nearest_site_csv():\n",
    "    points = pd.read_csv('static/景點.csv')\n",
    "    points_name = points['地點'].tolist()\n",
    "    points_lat = points['經度'].tolist()\n",
    "    points_lng = points['緯度'].tolist()\n",
    "\n",
    "    csv_data = []\n",
    "    for i, point_name in enumerate(points_name):\n",
    "        tmp = [point_name]\n",
    "        tmp.extend(__get_distance_point_to_site(points_lat[i], points_lng[i]))\n",
    "        csv_data.append(tmp)\n",
    "    header = [\"景點\", \"最近觀測站\", \"距離(km)\"]\n",
    "    pd.DataFrame(csv_data).to_csv('output/site_distance.csv', header=header, index=0, encoding='big5')\n",
    "\n",
    "    print(\"檔案 site_distance.csv 已創建\")"
   ]
  },
  {
   "cell_type": "markdown",
   "metadata": {},
   "source": [
    "\n",
    "最終，\n",
    "阿明帶著榮耀與資料，\n",
    "凱旋而歸，可喜可賀。\n"
   ]
  },
  {
   "cell_type": "code",
   "execution_count": 21,
   "metadata": {},
   "outputs": [
    {
     "data": {
      "text/html": [
       "<div>\n",
       "<style scoped>\n",
       "    .dataframe tbody tr th:only-of-type {\n",
       "        vertical-align: middle;\n",
       "    }\n",
       "\n",
       "    .dataframe tbody tr th {\n",
       "        vertical-align: top;\n",
       "    }\n",
       "\n",
       "    .dataframe thead th {\n",
       "        text-align: right;\n",
       "    }\n",
       "</style>\n",
       "<table border=\"1\" class=\"dataframe\">\n",
       "  <thead>\n",
       "    <tr style=\"text-align: right;\">\n",
       "      <th></th>\n",
       "      <th>景點</th>\n",
       "      <th>最近觀測站</th>\n",
       "      <th>距離(km)</th>\n",
       "    </tr>\n",
       "  </thead>\n",
       "  <tbody>\n",
       "    <tr>\n",
       "      <th>0</th>\n",
       "      <td>臺灣鹽博物館</td>\n",
       "      <td>七股</td>\n",
       "      <td>2.206</td>\n",
       "    </tr>\n",
       "    <tr>\n",
       "      <th>1</th>\n",
       "      <td>七股鹽山</td>\n",
       "      <td>七股</td>\n",
       "      <td>1.607</td>\n",
       "    </tr>\n",
       "    <tr>\n",
       "      <th>2</th>\n",
       "      <td>北門遊客中心</td>\n",
       "      <td>北門</td>\n",
       "      <td>0.172</td>\n",
       "    </tr>\n",
       "    <tr>\n",
       "      <th>3</th>\n",
       "      <td>井仔腳瓦盤鹽田</td>\n",
       "      <td>北門</td>\n",
       "      <td>1.978</td>\n",
       "    </tr>\n",
       "    <tr>\n",
       "      <th>4</th>\n",
       "      <td>尖山埤江南渡假村</td>\n",
       "      <td>東河</td>\n",
       "      <td>1.900</td>\n",
       "    </tr>\n",
       "  </tbody>\n",
       "</table>\n",
       "</div>"
      ],
      "text/plain": [
       "         景點 最近觀測站  距離(km)\n",
       "0    臺灣鹽博物館    七股   2.206\n",
       "1      七股鹽山    七股   1.607\n",
       "2    北門遊客中心    北門   0.172\n",
       "3   井仔腳瓦盤鹽田    北門   1.978\n",
       "4  尖山埤江南渡假村    東河   1.900"
      ]
     },
     "execution_count": 21,
     "metadata": {},
     "output_type": "execute_result"
    }
   ],
   "source": [
    "pd.read_csv('output/site_distance.csv',encoding='big5')[0:5]"
   ]
  },
  {
   "cell_type": "markdown",
   "metadata": {},
   "source": [
    "## 即將進行愉快ㄉ畫圖\n",
    "\n",
    "這裡示範如何愉快ㄉ畫圖\n",
    "還可以選擇想要看的地區喔！\n"
   ]
  },
  {
   "cell_type": "code",
   "execution_count": 35,
   "metadata": {},
   "outputs": [],
   "source": [
    "def create_one_tourist_table_or_all():\n",
    "    file = pd.read_csv('static/遊客人數/2019/10801.csv')\n",
    "    areas = file['觀光遊憩區別'].to_dict()\n",
    "\n",
    "    for i, _ in enumerate(areas):\n",
    "        print(i, end=\" \")\n",
    "        print(areas[i])\n",
    "\n",
    "    number = int(input(\"輸入你想查看的地區的數字編號（不輸入則為全部，輸入 -1 忽略）： \"))\n",
    "    if number == -1:\n",
    "        return\n",
    "    __create_tourist_table(number)"
   ]
  },
  {
   "cell_type": "code",
   "execution_count": 36,
   "metadata": {},
   "outputs": [],
   "source": [
    "def __create_tourist_table(number=None):\n",
    "    file_directory_path = \"static/遊客人數/\"\n",
    "    years = ['2018', '2019', '2020', '2021']\n",
    "\n",
    "    file = pd.read_csv('static/遊客人數/2019/10801.csv')\n",
    "    areas = file['觀光遊憩區別'].tolist()\n",
    "\n",
    "    if number is not None:\n",
    "        areas = [areas[number]]\n",
    "\n",
    "    for year in years:\n",
    "        file_list = os.listdir(file_directory_path + year)\n",
    "        file_nums = len(file_list)\n",
    "\n",
    "        for area in areas:\n",
    "            tourist_count_ticket = []\n",
    "            tourist_count = []\n",
    "\n",
    "            for file_name in file_list:\n",
    "                file = pd.read_csv(file_directory_path + year + '/' + file_name)\n",
    "                file = file[file['觀光遊憩區別'] == area]\n",
    "                try:\n",
    "                    tourist_count_ticket.append(int(file['遊客人次有門票_需購票'].values[0].replace(',', '')))\n",
    "                except:\n",
    "                    tourist_count_ticket.append(0)\n",
    "                try:\n",
    "                    tourist_count.append(int(file['遊客人次無門票_免費'].values[0].replace(',', '')))\n",
    "                except:\n",
    "                    tourist_count.append(0)\n",
    "\n",
    "            __draw_table(tourist_count, tourist_count_ticket, area, year, file_nums)"
   ]
  },
  {
   "cell_type": "code",
   "execution_count": 37,
   "metadata": {},
   "outputs": [],
   "source": [
    "def __draw_table(tourist_count, tourist_count_ticket, area, year, file_nums):\n",
    "    strChineseFont = 'msj.ttf'\n",
    "    myFont = FontProperties(fname=strChineseFont)\n",
    "\n",
    "    mouth = np.arange(1, file_nums + 1)\n",
    "    y = np.arange(1, len(mouth) + 1)\n",
    "    width = 0.3\n",
    "    plt.bar(y, tourist_count, label=\"Free\", width=width)\n",
    "    plt.bar(y + width, tourist_count_ticket, label=\"Ticket\", width=width)\n",
    "\n",
    "    ax = plt.subplot(111)\n",
    "    box = ax.get_position()\n",
    "    ax.set_position([box.x0, box.y0, box.width * 0.8, box.height])\n",
    "    ax.legend(loc='center left', bbox_to_anchor=(1, 0.7))\n",
    "    plt.xticks(y, mouth)\n",
    "    plt.xlabel(\"月份\", fontproperties=myFont)\n",
    "    plt.ylabel(\"遊客數\", fontproperties=myFont)\n",
    "    plt.title(year + \" \" + area, fontproperties=myFont)\n",
    "    plt.savefig('output/遊客/' + area + \"_\" + year)\n",
    "    plt.show()\n"
   ]
  },
  {
   "cell_type": "code",
   "execution_count": 32,
   "metadata": {
    "scrolled": false
   },
   "outputs": [
    {
     "name": "stdout",
     "output_type": "stream",
     "text": [
      "0 臺灣鹽博物館\n",
      "1 七股鹽山\n",
      "2 北門遊客中心\n",
      "3 井仔腳瓦盤鹽田\n",
      "4 尖山埤江南渡假村\n",
      "5 烏山頭水庫風景區\n",
      "6 曾文水庫\n",
      "7 關子嶺溫泉區\n",
      "8 虎頭埤風景區\n",
      "9 南元休閒農場\n",
      "10 走馬瀨農場\n",
      "11 烏樹林休閒園區\n",
      "12 頑皮世界\n",
      "13 南鯤鯓代天府\n",
      "14 麻豆代天府\n",
      "15 馬沙溝濱海遊憩區\n",
      "16 國立臺灣歷史博物館\n",
      "17 奇美博物館\n",
      "18 延平郡王祠\n",
      "19 赤崁樓\n",
      "20 臺南孔子廟\n",
      "21 祀典武廟\n",
      "22 五妃廟\n",
      "23 大天后宮\n",
      "24 安平小鎮\n",
      "輸入你想查看的地區的數字編號（不輸入則為全部，輸入 -1 忽略）： 13\n"
     ]
    },
    {
     "name": "stderr",
     "output_type": "stream",
     "text": [
      "<ipython-input-28-9de1c0b654e5>:11: MatplotlibDeprecationWarning: Adding an axes using the same arguments as a previous axes currently reuses the earlier instance.  In a future version, a new instance will always be created and returned.  Meanwhile, this warning can be suppressed, and the future behavior ensured, by passing a unique label to each axes instance.\n",
      "  ax = plt.subplot(111)\n"
     ]
    },
    {
     "data": {
      "image/png": "[encoded data removed]",
      "text/plain": [
       "<Figure size 432x288 with 1 Axes>"
      ]
     },
     "metadata": {
      "needs_background": "light"
     },
     "output_type": "display_data"
    },
    {
     "data": {
      "image/png": "[encoded data removed]",
      "text/plain": [
       "<Figure size 432x288 with 1 Axes>"
      ]
     },
     "metadata": {
      "needs_background": "light"
     },
     "output_type": "display_data"
    },
    {
     "data": {
      "image/png": "[encoded data removed]",
      "text/plain": [
       "<Figure size 432x288 with 1 Axes>"
      ]
     },
     "metadata": {
      "needs_background": "light"
     },
     "output_type": "display_data"
    },
    {
     "data": {
      "image/png": "[encoded data removed]",
      "text/plain": [
       "<Figure size 432x288 with 1 Axes>"
      ]
     },
     "metadata": {
      "needs_background": "light"
     },
     "output_type": "display_data"
    }
   ],
   "source": [
    "create_one_tourist_table_or_all()"
   ]
  },
  {
   "cell_type": "markdown",
   "metadata": {},
   "source": [
    "## 肥美ㄉ專題暫時結束"
   ]
  }
 ],
 "metadata": {
  "kernelspec": {
   "display_name": "Python 3",
   "language": "python",
   "name": "python3"
  },
  "language_info": {
   "codemirror_mode": {
    "name": "ipython",
    "version": 3
   },
   "file_extension": ".py",
   "mimetype": "text/x-python",
   "name": "python",
   "nbconvert_exporter": "python",
   "pygments_lexer": "ipython3",
   "version": "3.8.8"
  }
 },
 "nbformat": 4,
 "nbformat_minor": 4
}
