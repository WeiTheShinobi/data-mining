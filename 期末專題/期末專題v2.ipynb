{
 "cells": [
  {
   "cell_type": "markdown",
   "id": "f4fb5b06",
   "metadata": {},
   "source": [
    "# 美麗的資料探勘\n",
    "\n",
    "本篇將會簡單的講述我們如何把資料統整、製圖、製成網頁\n",
    "\n",
    "可以觀賞我們的成果網頁：https://weitheshinobi.github.io/data-mining-project/"
   ]
  },
  {
   "cell_type": "code",
   "execution_count": 1,
   "id": "d95f849c",
   "metadata": {},
   "outputs": [],
   "source": [
    "from math import *\n",
    "import pandas as pd\n",
    "import numpy as np"
   ]
  },
  {
   "cell_type": "markdown",
   "id": "52ddfa1f",
   "metadata": {},
   "source": [
    "## 取得景點的天氣\n",
    "\n",
    "我們從「政府資料開放平台」和「觀測資料查詢 CODiS」下載了遊客、景點、氣象觀測站的資料。\n",
    "\n",
    "我們之所以下載觀測站的資料，是因為想要知道景點的天氣，但我們不知道每個景點最接近的觀測站是哪個，所以我們可以自己動手計算。"
   ]
  },
  {
   "cell_type": "code",
   "execution_count": 2,
   "id": "9ea436f4",
   "metadata": {},
   "outputs": [
    {
     "data": {
      "text/html": [
       "<div>\n",
       "<style scoped>\n",
       "    .dataframe tbody tr th:only-of-type {\n",
       "        vertical-align: middle;\n",
       "    }\n",
       "\n",
       "    .dataframe tbody tr th {\n",
       "        vertical-align: top;\n",
       "    }\n",
       "\n",
       "    .dataframe thead th {\n",
       "        text-align: right;\n",
       "    }\n",
       "</style>\n",
       "<table border=\"1\" class=\"dataframe\">\n",
       "  <thead>\n",
       "    <tr style=\"text-align: right;\">\n",
       "      <th></th>\n",
       "      <th>編號</th>\n",
       "      <th>地點</th>\n",
       "      <th>地址</th>\n",
       "      <th>緯度</th>\n",
       "      <th>經度</th>\n",
       "      <th>類別</th>\n",
       "    </tr>\n",
       "  </thead>\n",
       "  <tbody>\n",
       "    <tr>\n",
       "      <th>0</th>\n",
       "      <td>1</td>\n",
       "      <td>臺灣鹽博物館</td>\n",
       "      <td>724 臺南市七股區鹽埕里69號</td>\n",
       "      <td>23.15535</td>\n",
       "      <td>120.10565</td>\n",
       "      <td>地方展館、在地藝文、無障礙設施</td>\n",
       "    </tr>\n",
       "    <tr>\n",
       "      <th>1</th>\n",
       "      <td>2</td>\n",
       "      <td>七股鹽山</td>\n",
       "      <td>724 臺南市七股區鹽埕里66號</td>\n",
       "      <td>23.15427</td>\n",
       "      <td>120.10026</td>\n",
       "      <td>生態教育、自然景觀、休閒農漁、無障礙設施</td>\n",
       "    </tr>\n",
       "    <tr>\n",
       "      <th>2</th>\n",
       "      <td>3</td>\n",
       "      <td>北門遊客中心</td>\n",
       "      <td>727 臺南市北門區北門里舊埕200號</td>\n",
       "      <td>23.26715</td>\n",
       "      <td>120.12397</td>\n",
       "      <td>在地藝文、無障礙設施</td>\n",
       "    </tr>\n",
       "    <tr>\n",
       "      <th>3</th>\n",
       "      <td>4</td>\n",
       "      <td>井仔腳瓦盤鹽田</td>\n",
       "      <td>727 臺南市北門區永華里井仔腳興安宮旁</td>\n",
       "      <td>23.25958</td>\n",
       "      <td>120.10819</td>\n",
       "      <td>生態教育、自然景觀、無障礙設施</td>\n",
       "    </tr>\n",
       "    <tr>\n",
       "      <th>4</th>\n",
       "      <td>5</td>\n",
       "      <td>尖山埤江南渡假村</td>\n",
       "      <td>736 臺南市柳營區旭山里60號</td>\n",
       "      <td>23.26649</td>\n",
       "      <td>120.39331</td>\n",
       "      <td>生態教育</td>\n",
       "    </tr>\n",
       "  </tbody>\n",
       "</table>\n",
       "</div>"
      ],
      "text/plain": [
       "   編號        地點                    地址        緯度         經度  \\\n",
       "0   1    臺灣鹽博物館      724 臺南市七股區鹽埕里69號  23.15535  120.10565   \n",
       "1   2      七股鹽山      724 臺南市七股區鹽埕里66號  23.15427  120.10026   \n",
       "2   3    北門遊客中心   727 臺南市北門區北門里舊埕200號  23.26715  120.12397   \n",
       "3   4   井仔腳瓦盤鹽田  727 臺南市北門區永華里井仔腳興安宮旁  23.25958  120.10819   \n",
       "4   5  尖山埤江南渡假村      736 臺南市柳營區旭山里60號  23.26649  120.39331   \n",
       "\n",
       "                     類別  \n",
       "0       地方展館、在地藝文、無障礙設施  \n",
       "1  生態教育、自然景觀、休閒農漁、無障礙設施  \n",
       "2            在地藝文、無障礙設施  \n",
       "3       生態教育、自然景觀、無障礙設施  \n",
       "4                  生態教育  "
      ]
     },
     "execution_count": 2,
     "metadata": {},
     "output_type": "execute_result"
    }
   ],
   "source": [
    "pd.read_csv('static/景點.csv')[0:5]"
   ]
  },
  {
   "cell_type": "code",
   "execution_count": 3,
   "id": "223c74ee",
   "metadata": {},
   "outputs": [
    {
     "data": {
      "text/html": [
       "<div>\n",
       "<style scoped>\n",
       "    .dataframe tbody tr th:only-of-type {\n",
       "        vertical-align: middle;\n",
       "    }\n",
       "\n",
       "    .dataframe tbody tr th {\n",
       "        vertical-align: top;\n",
       "    }\n",
       "\n",
       "    .dataframe thead th {\n",
       "        text-align: right;\n",
       "    }\n",
       "</style>\n",
       "<table border=\"1\" class=\"dataframe\">\n",
       "  <thead>\n",
       "    <tr style=\"text-align: right;\">\n",
       "      <th></th>\n",
       "      <th>站號</th>\n",
       "      <th>站名</th>\n",
       "      <th>海拔高度(m)</th>\n",
       "      <th>經度</th>\n",
       "      <th>緯度</th>\n",
       "      <th>城市</th>\n",
       "      <th>地址</th>\n",
       "      <th>資料起始日期</th>\n",
       "      <th>撤站日期</th>\n",
       "      <th>備註</th>\n",
       "      <th>Unnamed: 10</th>\n",
       "    </tr>\n",
       "  </thead>\n",
       "  <tbody>\n",
       "    <tr>\n",
       "      <th>0</th>\n",
       "      <td>C0O810</td>\n",
       "      <td>曾文</td>\n",
       "      <td>161.0</td>\n",
       "      <td>120.497328</td>\n",
       "      <td>23.219681</td>\n",
       "      <td>臺南市</td>\n",
       "      <td>楠西區曾文新村(曾文水庫管理局內)</td>\n",
       "      <td>1998/10/8</td>\n",
       "      <td>NaN</td>\n",
       "      <td>NaN</td>\n",
       "      <td>NaN</td>\n",
       "    </tr>\n",
       "    <tr>\n",
       "      <th>1</th>\n",
       "      <td>C0O830</td>\n",
       "      <td>北寮</td>\n",
       "      <td>127.0</td>\n",
       "      <td>120.495008</td>\n",
       "      <td>23.079561</td>\n",
       "      <td>臺南市</td>\n",
       "      <td>南化區北寮里48-4號</td>\n",
       "      <td>2013/4/18</td>\n",
       "      <td>NaN</td>\n",
       "      <td>原(C1O830)站因擴充為氣象站，於2013/4/18升級為(C0O830)站。</td>\n",
       "      <td>C1O830</td>\n",
       "    </tr>\n",
       "    <tr>\n",
       "      <th>2</th>\n",
       "      <td>C0O840</td>\n",
       "      <td>王爺宮</td>\n",
       "      <td>134.0</td>\n",
       "      <td>120.400850</td>\n",
       "      <td>23.222064</td>\n",
       "      <td>臺南市</td>\n",
       "      <td>六甲區王爺里24號（六甲國小湖東分校）</td>\n",
       "      <td>2013/12/1</td>\n",
       "      <td>NaN</td>\n",
       "      <td>原(C1O840)站因觀測條件不佳及擴充為氣象站，於2013/12/1升級為(C0O840)站。</td>\n",
       "      <td>C1O840</td>\n",
       "    </tr>\n",
       "  </tbody>\n",
       "</table>\n",
       "</div>"
      ],
      "text/plain": [
       "       站號   站名  海拔高度(m)          經度         緯度   城市                   地址  \\\n",
       "0  C0O810   曾文    161.0  120.497328  23.219681  臺南市    楠西區曾文新村(曾文水庫管理局內)   \n",
       "1  C0O830   北寮    127.0  120.495008  23.079561  臺南市          南化區北寮里48-4號   \n",
       "2  C0O840  王爺宮    134.0  120.400850  23.222064  臺南市  六甲區王爺里24號（六甲國小湖東分校）   \n",
       "\n",
       "      資料起始日期  撤站日期                                                備註  \\\n",
       "0  1998/10/8   NaN                                               NaN   \n",
       "1  2013/4/18   NaN         原(C1O830)站因擴充為氣象站，於2013/4/18升級為(C0O830)站。   \n",
       "2  2013/12/1   NaN  原(C1O840)站因觀測條件不佳及擴充為氣象站，於2013/12/1升級為(C0O840)站。   \n",
       "\n",
       "  Unnamed: 10  \n",
       "0         NaN  \n",
       "1      C1O830  \n",
       "2      C1O840  "
      ]
     },
     "execution_count": 3,
     "metadata": {},
     "output_type": "execute_result"
    }
   ],
   "source": [
    "pd.read_csv('static/觀測站.csv')[0:3]"
   ]
  },
  {
   "cell_type": "markdown",
   "id": "f235e9c1",
   "metadata": {},
   "source": [
    "景點和觀測站都有經緯度的資料，這樣很好，因為我們可以從這個來計算距離，距離最短的站就是。"
   ]
  },
  {
   "cell_type": "code",
   "execution_count": 4,
   "id": "e00e9402",
   "metadata": {},
   "outputs": [
    {
     "data": {
      "text/plain": [
       "124.8331458033635"
      ]
     },
     "execution_count": 4,
     "metadata": {},
     "output_type": "execute_result"
    }
   ],
   "source": [
    "def __compute_distance(lat1, lng1, lat2, lng2):\n",
    "    radlat1 = radians(lat1)\n",
    "    radlat2 = radians(lat2)\n",
    "    a = radlat1 - radlat2\n",
    "    b = radians(lng1) - radians(lng2)\n",
    "    s = 2 * asin(sqrt(pow(sin(a / 2), 2) + cos(radlat1) * cos(radlat2) * pow(sin(b / 2), 2)))\n",
    "    earth_radius = 6378.137\n",
    "    s = s * earth_radius\n",
    "    if s < 0:\n",
    "        return -s\n",
    "    else:\n",
    "        return s\n",
    "    \n",
    "# 測試 單位為公里\n",
    "__compute_distance(120, 23, 121, 24)"
   ]
  },
  {
   "cell_type": "markdown",
   "id": "7e1054db",
   "metadata": {},
   "source": [
    "這是透過經緯度計算距離的函式。"
   ]
  },
  {
   "cell_type": "code",
   "execution_count": 5,
   "id": "3214f331",
   "metadata": {},
   "outputs": [
    {
     "data": {
      "text/plain": [
       "['七股', 12.632]"
      ]
     },
     "execution_count": 5,
     "metadata": {},
     "output_type": "execute_result"
    }
   ],
   "source": [
    "def __get_distance_point_to_site(point_lat, point_lng):\n",
    "    sites = pd.read_csv('static/觀測站.csv')\n",
    "    sites_name = sites['站名'].tolist()\n",
    "    sites_lat = sites['經度'].tolist()\n",
    "    sites_lng = sites['緯度'].tolist()\n",
    "\n",
    "    tmp_for_search_name = {}\n",
    "    tmp_distance = []\n",
    "    for i, site_name in enumerate(sites_name):\n",
    "        distance = __compute_distance(point_lat, point_lng, sites_lat[i], sites_lng[i])\n",
    "        tmp_for_search_name[distance] = site_name\n",
    "        tmp_distance.append(distance)\n",
    "    nearest_site_distance = np.min(tmp_distance)\n",
    "    nearest_site_name = tmp_for_search_name[nearest_site_distance]\n",
    "\n",
    "    return [nearest_site_name, round(nearest_site_distance, 3)]\n",
    "# 測試\n",
    "__get_distance_point_to_site(120, 23)"
   ]
  },
  {
   "cell_type": "markdown",
   "id": "969bf528",
   "metadata": {},
   "source": [
    "輸入景點的經緯度，\n",
    "輸出最近的觀測站與距離（公里）。"
   ]
  },
  {
   "cell_type": "code",
   "execution_count": 6,
   "id": "1f5bcbb4",
   "metadata": {},
   "outputs": [
    {
     "data": {
      "text/html": [
       "<div>\n",
       "<style scoped>\n",
       "    .dataframe tbody tr th:only-of-type {\n",
       "        vertical-align: middle;\n",
       "    }\n",
       "\n",
       "    .dataframe tbody tr th {\n",
       "        vertical-align: top;\n",
       "    }\n",
       "\n",
       "    .dataframe thead th {\n",
       "        text-align: right;\n",
       "    }\n",
       "</style>\n",
       "<table border=\"1\" class=\"dataframe\">\n",
       "  <thead>\n",
       "    <tr style=\"text-align: right;\">\n",
       "      <th></th>\n",
       "      <th>景點</th>\n",
       "      <th>最近觀測站</th>\n",
       "      <th>距離(km)</th>\n",
       "    </tr>\n",
       "  </thead>\n",
       "  <tbody>\n",
       "    <tr>\n",
       "      <th>0</th>\n",
       "      <td>臺灣鹽博物館</td>\n",
       "      <td>七股</td>\n",
       "      <td>2.206</td>\n",
       "    </tr>\n",
       "    <tr>\n",
       "      <th>1</th>\n",
       "      <td>七股鹽山</td>\n",
       "      <td>七股</td>\n",
       "      <td>1.607</td>\n",
       "    </tr>\n",
       "    <tr>\n",
       "      <th>2</th>\n",
       "      <td>北門遊客中心</td>\n",
       "      <td>北門</td>\n",
       "      <td>0.172</td>\n",
       "    </tr>\n",
       "    <tr>\n",
       "      <th>3</th>\n",
       "      <td>井仔腳瓦盤鹽田</td>\n",
       "      <td>北門</td>\n",
       "      <td>1.978</td>\n",
       "    </tr>\n",
       "    <tr>\n",
       "      <th>4</th>\n",
       "      <td>尖山埤江南渡假村</td>\n",
       "      <td>東河</td>\n",
       "      <td>1.900</td>\n",
       "    </tr>\n",
       "  </tbody>\n",
       "</table>\n",
       "</div>"
      ],
      "text/plain": [
       "         景點 最近觀測站  距離(km)\n",
       "0    臺灣鹽博物館    七股   2.206\n",
       "1      七股鹽山    七股   1.607\n",
       "2    北門遊客中心    北門   0.172\n",
       "3   井仔腳瓦盤鹽田    北門   1.978\n",
       "4  尖山埤江南渡假村    東河   1.900"
      ]
     },
     "execution_count": 6,
     "metadata": {},
     "output_type": "execute_result"
    }
   ],
   "source": [
    "def create_nearest_site_csv():\n",
    "    points = pd.read_csv('static/景點.csv')\n",
    "    points_name = points['地點'].tolist()\n",
    "    points_lat = points['經度'].tolist()\n",
    "    points_lng = points['緯度'].tolist()\n",
    "\n",
    "    csv_data = []\n",
    "    for i, point_name in enumerate(points_name):\n",
    "        tmp = [point_name]\n",
    "        tmp.extend(__get_distance_point_to_site(points_lat[i], points_lng[i]))\n",
    "        csv_data.append(tmp)\n",
    "    header = [\"景點\", \"最近觀測站\", \"距離(km)\"]\n",
    "    pd.DataFrame(csv_data).to_csv('output/site_distance.csv', header=header, index=0, encoding='big5')\n",
    "\n",
    "    print(\"檔案 site_distance.csv 已創建\")\n",
    "    \n",
    "pd.read_csv('output/site_distance.csv',encoding='big5')[0:5]"
   ]
  },
  {
   "cell_type": "markdown",
   "id": "3e9d088b",
   "metadata": {},
   "source": [
    "這個函式用到上面幾個函式，\n",
    "將景點經緯度輸入，\n",
    "輸出了所有景點最近的觀測站，\n",
    "並且輸出成表，\n",
    "我們就能取得每個景點的溫度資料。\n",
    "\n",
    "整理好的資料就可以進行作圖、分析。"
   ]
  },
  {
   "cell_type": "markdown",
   "id": "3f5636cb",
   "metadata": {},
   "source": [
    "## 整理資料給網頁\n",
    "\n",
    "準備將製作好的圖表、資料放進網頁中，\n",
    "我們這次是弄一個簡單的靜態網頁，\n",
    "所以直接把資料和圖表放上去，\n",
    "\n",
    "但是還是有一些繁瑣的流程可以讓機器來做。"
   ]
  },
  {
   "cell_type": "markdown",
   "id": "0d7cae17",
   "metadata": {},
   "source": [
    "我們需要在網頁上標記25個點，\n",
    "這還蠻累人的，\n",
    "每個點幾乎是一樣的，\n",
    "除了個別的資料，\n",
    "這代表我們可以讓機器替我們完成重複性的工作。\n",
    "\n",
    "我們先讀取會用到的資料。"
   ]
  },
  {
   "cell_type": "code",
   "execution_count": 7,
   "id": "41ab1386",
   "metadata": {},
   "outputs": [],
   "source": [
    "data = pd.read_csv('static/景點.csv')\n",
    "point_intro = pd.read_csv('static/景點統整.csv')\n",
    "position = data['地點']"
   ]
  },
  {
   "cell_type": "code",
   "execution_count": 8,
   "id": "b6551906",
   "metadata": {},
   "outputs": [
    {
     "name": "stdout",
     "output_type": "stream",
     "text": [
      "<button onclick=\"getTouristData(this.value)\" title=臺灣鹽博物館 id=臺灣鹽博物館 value=臺灣鹽博物館 class=tourist><i class=\"map marker alternate icon\"></i></button>\n",
      "<button onclick=\"getTouristData(this.value)\" title=七股鹽山 id=七股鹽山 value=七股鹽山 class=tourist><i class=\"map marker alternate icon\"></i></button>\n",
      "<button onclick=\"getTouristData(this.value)\" title=北門遊客中心 id=北門遊客中心 value=北門遊客中心 class=tourist><i class=\"map marker alternate icon\"></i></button>\n"
     ]
    }
   ],
   "source": [
    "def get_HTML():\n",
    "    # 為了讓版面美觀，這裡只顯示三個示範\n",
    "    for i in range(3):\n",
    "        print(\"<button onclick=\\\"getTouristData(this.value)\\\" title=\" + position[i] + \" id=\" + position[i] + \" value=\" +\n",
    "              position[i] + \" class=tourist><i class=\\\"map marker alternate icon\\\"></i></button>\")\n",
    "\n",
    "\n",
    "get_HTML()"
   ]
  },
  {
   "cell_type": "markdown",
   "id": "1461acd0",
   "metadata": {},
   "source": [
    "\n",
    "\n",
    "我們只寫了一次就讓Python幫我們弄好了，\n",
    "HTML替我們生成了點，\n",
    "現在CSS替我們標記位置。\n",
    "\n",
    "生成CSS也是同理。"
   ]
  },
  {
   "cell_type": "code",
   "execution_count": 9,
   "id": "b2dd396e",
   "metadata": {},
   "outputs": [
    {
     "name": "stdout",
     "output_type": "stream",
     "text": [
      "#臺灣鹽博物館 {\n",
      "    left: 0%;\n",
      "    top: 0%;\n",
      "}\n",
      "\n",
      "#七股鹽山 {\n",
      "    left: 1%;\n",
      "    top: 1%;\n",
      "}\n",
      "\n",
      "#北門遊客中心 {\n",
      "    left: 2%;\n",
      "    top: 2%;\n",
      "}\n",
      "\n"
     ]
    }
   ],
   "source": [
    "def get_point_css():\n",
    "    # 為了讓版面美觀，這裡只顯示三個示範\n",
    "    for i in range(3):\n",
    "        print(\"#\" + position[i] + \" {\")\n",
    "        print(\"    left: \" + str(i) + \"%;\")\n",
    "        print(\"    top: \" + str(i) + \"%;\")\n",
    "        print(\"}\")\n",
    "        print()\n",
    "\n",
    "get_point_css()"
   ]
  },
  {
   "cell_type": "markdown",
   "id": "d9d7f27b",
   "metadata": {},
   "source": [
    "得到了點的CSS模板，\n",
    "當然這些點的參數還是要靠自己動手。\n",
    "\n",
    "把網頁弄好之後，\n",
    "可以開始把資料放入，\n",
    "我們用到一點JavaScript來操控網頁元素，\n",
    "我會說明一些關於資料的部分。\n",
    "\n",
    "下方的JavaScript程式碼就是用來操作地圖的，\n",
    "只要把資料放入即可，\n",
    "那資料怎麼生成？\n",
    "當然是靠Python從檔案讀取囉，\n",
    "千萬不要想手動輸入。\n",
    "\n",
    "```javascript\n",
    "\n",
    "// js程式碼\n",
    "function getTouristData(tourist) {\n",
    "    $(\"#tips\").text(\"\");\n",
    "    $(\"#t-title\").text(tourist);\n",
    "    $(\"#t-content\").html(touristIntro[tourist]);\n",
    "    $(\"#t-lat\").text(touristLatLng[tourist][0]);\n",
    "    $(\"#t-lng\").text(touristLatLng[tourist][1]);\n",
    "    $(\"#t-type\").html(touristType[tourist]);\n",
    "    $(\"#temperature-img\").attr('src', \"static/images/tourist/temperature/\" + tourist + \".png\")\n",
    "    $(\"#tourist-img\").attr('src', \"static/images/tourist/tourist/\" + tourist + \".png\")\n",
    "    $(\"#rain-img\").attr('src', \"static/images/tourist/rain/\" + tourist + \".png\")\n",
    "}\n",
    "\n",
    "```"
   ]
  },
  {
   "cell_type": "code",
   "execution_count": 10,
   "id": "536de2c9",
   "metadata": {},
   "outputs": [
    {
     "name": "stdout",
     "output_type": "stream",
     "text": [
      "{'台灣鹽博物館': '&nbsp;&nbsp;&nbsp;&nbsp;&nbsp;&nbsp;&nbsp;&nbsp;&nbsp;&nbsp;一望無際的鹽田中，有兩座白色金字塔並肩聳立，與七股鹽山遙遙相望，這裡是台灣鹽博物館。用視覺回憶鹽田風光；用觸覺掌握鹽粒結晶；用味覺品嘗粗鹽鹹味；用感覺和認知完整體會一路走來的鹽業歷史。'}\n"
     ]
    }
   ],
   "source": [
    "def get_point_intro():\n",
    "    intro_dict = {}\n",
    "    for i, intro in enumerate(point_intro['介紹']):\n",
    "        # 為了讓版面美觀，這裡只顯示一個示範\n",
    "        if i == 1:\n",
    "            break\n",
    "            \n",
    "        intro_dict[point_intro['名稱'][i]] = \"&nbsp;&nbsp;&nbsp;&nbsp;&nbsp;&nbsp;&nbsp;&nbsp;&nbsp;&nbsp;\" + intro            \n",
    "    print(intro_dict)\n",
    "    \n",
    "get_point_intro()"
   ]
  },
  {
   "cell_type": "markdown",
   "id": "3421e130",
   "metadata": {},
   "source": [
    "看起來是不是很像JSON，\n",
    "JSON = JavaScript Object Notation\n",
    "JavaScript物件表示法，\n",
    "\n",
    "這是巧合嗎？\n",
    "我不這麼認為，\n",
    "總之Python的字典直接print就是JSON物件，\n",
    "這樣我們就能把超長一串寫進我們的網頁JavaScript中。\n",
    "\n",
    "我們又再次讓機器替我們完成工作。\n",
    "\n",
    "```JavaScript\n",
    "// js程式碼\n",
    "let touristIntro = {\"...略\"}\n",
    "```"
   ]
  },
  {
   "cell_type": "code",
   "execution_count": 11,
   "id": "16a6d9d1",
   "metadata": {},
   "outputs": [
    {
     "name": "stdout",
     "output_type": "stream",
     "text": [
      "{'台灣鹽博物館': [23.15535, 120.10565], '七股鹽山': [23.15427, 120.10026], '北門遊客中心': [23.26715, 120.12397]}\n"
     ]
    }
   ],
   "source": [
    "\n",
    "def get_lat_and_log():\n",
    "    latlog_dict = {}\n",
    "    for i, point in enumerate(point_intro['名稱']):\n",
    "        # 為了讓版面美觀，這裡只顯示三個示範\n",
    "        if i == 3:\n",
    "            break\n",
    "            \n",
    "        latlog = [point_intro['緯度'][i], point_intro['經度'][i]]\n",
    "        latlog_dict[point] = latlog\n",
    "    print(latlog_dict)\n",
    "\n",
    "\n",
    "get_lat_and_log()"
   ]
  },
  {
   "cell_type": "markdown",
   "id": "4225d61f",
   "metadata": {},
   "source": [
    "取得經緯度同理，\n",
    "這裡簡單示範。"
   ]
  },
  {
   "cell_type": "code",
   "execution_count": 12,
   "id": "b5997ebc",
   "metadata": {},
   "outputs": [
    {
     "name": "stdout",
     "output_type": "stream",
     "text": [
      "touristType[\"台灣鹽博物館\"] = \"<div class=\\\"ui basic teal label\\\">地方展館</div><div class=\\\"ui basic teal label\\\">在地藝文</div><div class=\\\"ui basic teal label\\\">無障礙設施</div>\"\n"
     ]
    }
   ],
   "source": [
    "def get_type():\n",
    "    for i, point in enumerate(point_intro['名稱']):\n",
    "        # 為了讓版面美觀，這裡只顯示一個示範\n",
    "        if i == 1:\n",
    "            break\n",
    "        \n",
    "        print(\"touristType[\\\"\" + point + \"\\\"] = \", end=\"\")\n",
    "        print(\"\\\"\", end=\"\")\n",
    "        for j in point_intro['類別'][i].split('、'):\n",
    "            print(\"<div class=\\\\\\\"ui basic teal label\\\\\\\">\", end=\"\")\n",
    "            print(j, end=\"\")\n",
    "            print(\"</div>\", end=\"\")\n",
    "        print(\"\\\"\", end=\"\")\n",
    "        print()\n",
    "\n",
    "get_type()"
   ]
  },
  {
   "cell_type": "markdown",
   "id": "e46f1cea",
   "metadata": {},
   "source": [
    "景點標籤細節比較不一樣，\n",
    "但是精神上是一樣的，\n",
    "讓機器替我們處理。\n",
    "\n",
    "最終我們完成網頁地圖點景的資料。\n",
    "\n",
    "https://weitheshinobi.github.io/data-mining-project/"
   ]
  }
 ],
 "metadata": {
  "kernelspec": {
   "display_name": "Python 3",
   "language": "python",
   "name": "python3"
  },
  "language_info": {
   "codemirror_mode": {
    "name": "ipython",
    "version": 3
   },
   "file_extension": ".py",
   "mimetype": "text/x-python",
   "name": "python",
   "nbconvert_exporter": "python",
   "pygments_lexer": "ipython3",
   "version": "3.8.8"
  }
 },
 "nbformat": 4,
 "nbformat_minor": 5
}
